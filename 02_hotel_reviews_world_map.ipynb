{
 "cells": [
  {
   "cell_type": "markdown",
   "id": "d34d6cb3-57f1-45fd-a509-18d12e7587b9",
   "metadata": {},
   "source": [
    "# Hotel Reviews in Europe\n",
    "\n",
    "__Guest nationality analysis__"
   ]
  },
  {
   "cell_type": "markdown",
   "id": "2f657fca-9301-4280-8426-49f0aaafb43c",
   "metadata": {},
   "source": [
    "__Import libraries__"
   ]
  },
  {
   "cell_type": "code",
   "execution_count": null,
   "id": "1a887b19-a922-4d04-b026-dc8d23fa848b",
   "metadata": {},
   "outputs": [],
   "source": [
    "import pandas as pd\n",
    "import numpy as np\n",
    "import re\n",
    "import folium"
   ]
  },
  {
   "cell_type": "markdown",
   "id": "50181a4e-82e3-4b8f-9461-2ccfbd43aa53",
   "metadata": {},
   "source": [
    "__Load data__"
   ]
  },
  {
   "cell_type": "code",
   "execution_count": null,
   "id": "a8beb99b-453a-4e4d-bab4-b36c56f04bdd",
   "metadata": {},
   "outputs": [],
   "source": [
    "df = pd.read_csv(\"data/Hotel_Reviews.csv\")"
   ]
  },
  {
   "cell_type": "markdown",
   "id": "54632ab7-9112-47df-bff1-0adc6455700d",
   "metadata": {},
   "source": [
    "__Create new column for hotel country__"
   ]
  },
  {
   "cell_type": "code",
   "execution_count": null,
   "id": "f16bd428-7ebb-4240-8a44-e7a5d70da81a",
   "metadata": {},
   "outputs": [],
   "source": [
    "df['Hotel_Country'] = df.apply(lambda row: row['Hotel_Address'].split(\" \")[-1], axis=1)\n",
    "df.head()"
   ]
  },
  {
   "cell_type": "markdown",
   "id": "d47d330f-eba7-4ee9-9e32-4e2585097dcd",
   "metadata": {},
   "source": [
    "__Filter by Spanish hotels__"
   ]
  },
  {
   "cell_type": "code",
   "execution_count": null,
   "id": "d4d416af-3465-4c68-a61e-466902b29241",
   "metadata": {},
   "outputs": [],
   "source": [
    "df_spain = df[df['Hotel_Country'] == 'Spain']\n",
    "print(df_spain.shape)\n",
    "df_spain.head()"
   ]
  },
  {
   "cell_type": "markdown",
   "id": "9c4d0636-365f-4bcf-9e1c-d2e8c64fd3f3",
   "metadata": {},
   "source": [
    "__Remove leading and trailling spaces from the guest nationality__"
   ]
  },
  {
   "cell_type": "code",
   "execution_count": null,
   "id": "3647dbeb-6f1d-4945-bd67-0360712e9932",
   "metadata": {},
   "outputs": [],
   "source": [
    "df_spain['Reviewer_Nationality'] = df_spain['Reviewer_Nationality'].apply(lambda x: x.strip())\n",
    "df_spain['Reviewer_Nationality'].unique()"
   ]
  },
  {
   "cell_type": "markdown",
   "id": "79060c2d-402a-4b6f-8c95-f064217489ff",
   "metadata": {},
   "source": [
    "__Check if any guest nationality is missing__"
   ]
  },
  {
   "cell_type": "code",
   "execution_count": null,
   "id": "88337c07-8ebf-4199-bbba-2e2f37ffc324",
   "metadata": {},
   "outputs": [],
   "source": [
    "df_spain['Reviewer_Nationality'].isnull().values.any()"
   ]
  },
  {
   "cell_type": "code",
   "execution_count": null,
   "id": "532946fa-83f0-4058-b983-7ce9652f3c42",
   "metadata": {},
   "outputs": [],
   "source": [
    "df_spain[df_spain['Reviewer_Nationality'] == ''].head()"
   ]
  },
  {
   "cell_type": "markdown",
   "id": "14e3d01a-e775-45d7-9f0c-094ec920fcce",
   "metadata": {},
   "source": [
    "__Explore the most frequent nationalities for each number of reviews__"
   ]
  },
  {
   "cell_type": "code",
   "execution_count": null,
   "id": "b46952d7-9143-4a12-bbf0-5205ae0458ab",
   "metadata": {},
   "outputs": [],
   "source": [
    "df_spain.groupby('Total_Number_of_Reviews_Reviewer_Has_Given')['Reviewer_Nationality'].value_counts()"
   ]
  },
  {
   "cell_type": "markdown",
   "id": "3315e040-8250-4df9-9e4b-8eadaf52161d",
   "metadata": {},
   "source": [
    "__Fill in the missing nationalities__"
   ]
  },
  {
   "cell_type": "code",
   "execution_count": null,
   "id": "11fc9f7a-3ea1-4661-90db-5aca4c41e07f",
   "metadata": {},
   "outputs": [],
   "source": [
    "# Fill missing nationality with the most frequent one for the given Total_Number_of_Reviews_Reviewer_Has_Given\n",
    "df_spain['Reviewer_Nationality'] = df_spain.groupby('Total_Number_of_Reviews_Reviewer_Has_Given')['Reviewer_Nationality'].transform(lambda x: x.replace('', x.value_counts().idxmax()))"
   ]
  },
  {
   "cell_type": "markdown",
   "id": "7389b4ae-d4bd-4967-9c7b-a531ef3da2f3",
   "metadata": {},
   "source": [
    "__Verify there are no longer missing nationalities__"
   ]
  },
  {
   "cell_type": "code",
   "execution_count": null,
   "id": "f4b1beab-569a-4e9d-9560-fe1a657ff754",
   "metadata": {},
   "outputs": [],
   "source": [
    "df_spain[df_spain['Reviewer_Nationality'] == '']"
   ]
  },
  {
   "cell_type": "markdown",
   "id": "325afdf0-939b-4281-980d-fb9d9518ed71",
   "metadata": {},
   "source": [
    "__Calculate percentage of each guest nationality__"
   ]
  },
  {
   "cell_type": "code",
   "execution_count": null,
   "id": "309c6e79-5f4a-40eb-90e6-b4e88a81bd37",
   "metadata": {},
   "outputs": [],
   "source": [
    "df_spain_by_guest_nationality = df_spain.groupby(['Reviewer_Nationality']).size().reset_index()\n",
    "df_spain_by_guest_nationality.columns = ['Nationality', 'Guest Amount']\n",
    "df_spain_by_guest_nationality['Guest ratio'] = df_spain_by_guest_nationality.apply(lambda x: round(100 * x['Guest Amount'] / df_spain.shape[0], 2), axis='columns')\n",
    "df_spain_by_guest_nationality.head(10)"
   ]
  },
  {
   "cell_type": "markdown",
   "id": "6bf9cfe7-568c-46e8-b19e-bd367346b9d4",
   "metadata": {},
   "source": [
    "__Most popular guest nationalities in Spanish hotels__"
   ]
  },
  {
   "cell_type": "code",
   "execution_count": null,
   "id": "8c153f35-beb1-450f-a80f-02bfe8b31561",
   "metadata": {},
   "outputs": [],
   "source": [
    "df_spain_by_guest_nationality.sort_values('Guest ratio', ascending=False).head(10)"
   ]
  },
  {
   "cell_type": "code",
   "execution_count": null,
   "id": "b2ae4f95-d4ce-417a-a74c-e9389d5252bc",
   "metadata": {},
   "outputs": [],
   "source": [
    "df_spain_by_guest_nationality.sort_values('Guest ratio', ascending=True).head(10)"
   ]
  },
  {
   "cell_type": "markdown",
   "id": "006b941f-f4d4-46f8-b6ce-cebb6fc33d8d",
   "metadata": {},
   "source": [
    "__Plot world map__"
   ]
  },
  {
   "cell_type": "code",
   "execution_count": null,
   "id": "53314986-ca76-484f-b51c-47b192cbcbd4",
   "metadata": {},
   "outputs": [],
   "source": [
    "# load world countries with coords\n",
    "world_geo = r'data/world-countries.json' # geojson file\n",
    "\n",
    "# create a numpy array of length 6 and has linear spacing from the minimum fraud ratio to the maximum value\n",
    "threshold_scale = np.linspace(start=0, stop=1, num=6, endpoint=True, dtype=float)\n",
    "threshold_scale = threshold_scale.tolist() # change the numpy array to a list\n",
    "threshold_scale[-1] = threshold_scale[-1] + 0.001 # ensure last value of list is greater than max fraud ratio\n",
    "\n",
    "# let Folium determine the scale.\n",
    "world_map = folium.Map(location=[0, 0], zoom_start=2) #, tiles='Mapbox Bright')\n",
    "world_map.choropleth(\n",
    "    geo_data=world_geo,\n",
    "    data=df_spain_by_guest_nationality,\n",
    "    columns=['Nationality', 'Guest ratio'],\n",
    "    key_on='feature.properties.name',\n",
    "    threshold_scale=[0, 1, 3, 10, 30, 100],\n",
    "    fill_color='YlOrRd',\n",
    "    nan_fill_color='white',\n",
    "    fill_opacity=0.7, \n",
    "    line_opacity=0.2,\n",
    "    legend_name='Nationality of hotel guests in Spain (%)',\n",
    "    reset=True\n",
    ")\n",
    "world_map"
   ]
  },
  {
   "cell_type": "code",
   "execution_count": null,
   "id": "9ec73fd8-103c-45cc-9d41-1dab49e6b3a7",
   "metadata": {},
   "outputs": [],
   "source": []
  }
 ],
 "metadata": {
  "language_info": {
   "name": "python",
   "pygments_lexer": "ipython3"
  }
 },
 "nbformat": 4,
 "nbformat_minor": 5
}
