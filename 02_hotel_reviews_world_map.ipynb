{
 "cells": [
  {
   "cell_type": "markdown",
   "id": "d34d6cb3-57f1-45fd-a509-18d12e7587b9",
   "metadata": {},
   "source": [
    "# Hotel Reviews in Europe\n",
    "\n",
    "__Feature engineering__"
   ]
  },
  {
   "cell_type": "markdown",
   "id": "5c4f7990-6104-48b6-8e40-74b071c6f604",
   "metadata": {},
   "source": [
    "__Some ideas for insights__\n",
    "\n",
    "- Color-coded world map of guest nationalities in Spain"
   ]
  },
  {
   "cell_type": "markdown",
   "id": "f85b254a-db75-4a5d-9b0f-ab9b24ba4b51",
   "metadata": {},
   "source": [
    "## Table of Contents\n",
    "\n",
    "* [Handling of missing values](#XXX)\n",
    "* [Transforming categorical features](#XXX)"
   ]
  },
  {
   "cell_type": "markdown",
   "id": "2f657fca-9301-4280-8426-49f0aaafb43c",
   "metadata": {},
   "source": [
    "__Import libraries__"
   ]
  },
  {
   "cell_type": "code",
   "execution_count": null,
   "id": "1a887b19-a922-4d04-b026-dc8d23fa848b",
   "metadata": {},
   "outputs": [],
   "source": [
    "import pandas as pd\n",
    "import numpy as np\n",
    "import re\n",
    "import folium"
   ]
  },
  {
   "cell_type": "markdown",
   "id": "50181a4e-82e3-4b8f-9461-2ccfbd43aa53",
   "metadata": {},
   "source": [
    "__Load data__"
   ]
  },
  {
   "cell_type": "code",
   "execution_count": null,
   "id": "a8beb99b-453a-4e4d-bab4-b36c56f04bdd",
   "metadata": {},
   "outputs": [],
   "source": [
    "df = pd.read_csv(\"data/Hotel_Reviews.csv\")"
   ]
  },
  {
   "cell_type": "markdown",
   "id": "54632ab7-9112-47df-bff1-0adc6455700d",
   "metadata": {},
   "source": [
    "__Create new column for hotel country__"
   ]
  },
  {
   "cell_type": "code",
   "execution_count": null,
   "id": "f16bd428-7ebb-4240-8a44-e7a5d70da81a",
   "metadata": {},
   "outputs": [],
   "source": [
    "df['Hotel_Country'] = df.apply(lambda row: row['Hotel_Address'].split(\" \")[-1], axis=1)\n",
    "df.head()"
   ]
  },
  {
   "cell_type": "markdown",
   "id": "d47d330f-eba7-4ee9-9e32-4e2585097dcd",
   "metadata": {},
   "source": [
    "__Filter by Spanish hotels__"
   ]
  },
  {
   "cell_type": "code",
   "execution_count": null,
   "id": "d4d416af-3465-4c68-a61e-466902b29241",
   "metadata": {},
   "outputs": [],
   "source": [
    "df_spain = df[df['Hotel_Country'] == 'Spain']\n",
    "print(df_spain.shape)\n",
    "df_spain.head()"
   ]
  },
  {
   "cell_type": "markdown",
   "id": "9c4d0636-365f-4bcf-9e1c-d2e8c64fd3f3",
   "metadata": {},
   "source": [
    "__Remove leading and trailling spaces from the guest nationality__"
   ]
  },
  {
   "cell_type": "code",
   "execution_count": null,
   "id": "3647dbeb-6f1d-4945-bd67-0360712e9932",
   "metadata": {},
   "outputs": [],
   "source": [
    "df_spain['Reviewer_Nationality'].apply(lambda x: x.strip(), axis=1)\n",
    "df_spain['Reviewer_Nationality'].unique()"
   ]
  },
  {
   "cell_type": "markdown",
   "id": "79060c2d-402a-4b6f-8c95-f064217489ff",
   "metadata": {},
   "source": [
    "__Check if any guest nationality is missing__"
   ]
  },
  {
   "cell_type": "code",
   "execution_count": null,
   "id": "88337c07-8ebf-4199-bbba-2e2f37ffc324",
   "metadata": {},
   "outputs": [],
   "source": [
    "df_spain['Reviewer_Nationality'].isnull().values.any()"
   ]
  },
  {
   "cell_type": "code",
   "execution_count": null,
   "id": "532946fa-83f0-4058-b983-7ce9652f3c42",
   "metadata": {},
   "outputs": [],
   "source": [
    "df_spain[df_spain['Reviewer_Nationality'] == ''].head()"
   ]
  },
  {
   "cell_type": "markdown",
   "id": "14e3d01a-e775-45d7-9f0c-094ec920fcce",
   "metadata": {},
   "source": [
    "__Explore the most frequent nationalities for each number of reviews__"
   ]
  },
  {
   "cell_type": "code",
   "execution_count": null,
   "id": "b46952d7-9143-4a12-bbf0-5205ae0458ab",
   "metadata": {},
   "outputs": [],
   "source": [
    "df_spain.groupby('Total_Number_of_Reviews_Reviewer_Has_Given')['Reviewer_Nationality'].value_counts()"
   ]
  },
  {
   "cell_type": "markdown",
   "id": "3315e040-8250-4df9-9e4b-8eadaf52161d",
   "metadata": {},
   "source": [
    "__Fill in the missing nationalities__"
   ]
  },
  {
   "cell_type": "code",
   "execution_count": null,
   "id": "11fc9f7a-3ea1-4661-90db-5aca4c41e07f",
   "metadata": {},
   "outputs": [],
   "source": [
    "# Fill missing nationality with the most frequent one for the given Total_Number_of_Reviews_Reviewer_Has_Given\n",
    "df_spain['Reviewer_Nationality'] = df_spain.groupby('Total_Number_of_Reviews_Reviewer_Has_Given')['Reviewer_Nationality'].transform(lambda x: x.replace('', x.value_counts().idxmax()))"
   ]
  },
  {
   "cell_type": "markdown",
   "id": "7389b4ae-d4bd-4967-9c7b-a531ef3da2f3",
   "metadata": {},
   "source": [
    "__Verify there are no longer missing nationalities__"
   ]
  },
  {
   "cell_type": "code",
   "execution_count": null,
   "id": "f4b1beab-569a-4e9d-9560-fe1a657ff754",
   "metadata": {},
   "outputs": [],
   "source": [
    "df_spain[df_spain['Reviewer_Nationality'] == '']"
   ]
  },
  {
   "cell_type": "markdown",
   "id": "325afdf0-939b-4281-980d-fb9d9518ed71",
   "metadata": {},
   "source": [
    "__Group by guest nationality__"
   ]
  },
  {
   "cell_type": "code",
   "execution_count": null,
   "id": "309c6e79-5f4a-40eb-90e6-b4e88a81bd37",
   "metadata": {},
   "outputs": [],
   "source": [
    "df_spain_by_guest_nationality = df_spain.groupby(['Reviewer_Nationality']).size().reset_index()\n",
    "df_spain_by_guest_nationality.head(10)"
   ]
  },
  {
   "cell_type": "code",
   "execution_count": null,
   "id": "8c153f35-beb1-450f-a80f-02bfe8b31561",
   "metadata": {},
   "outputs": [],
   "source": []
  }
 ],
 "metadata": {
  "language_info": {
   "name": "python",
   "pygments_lexer": "ipython3"
  }
 },
 "nbformat": 4,
 "nbformat_minor": 5
}
