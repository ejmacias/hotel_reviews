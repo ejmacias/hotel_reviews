{
 "cells": [
  {
   "cell_type": "markdown",
   "id": "bafd2a03-bd45-470c-84eb-9bf0ae2dc0a1",
   "metadata": {},
   "source": [
    "# Hotel Reviews in Europe\n",
    "\n",
    "__Sentiment analysis__"
   ]
  },
  {
   "cell_type": "markdown",
   "id": "1f2b73cb-f395-4362-9568-d76948aa784f",
   "metadata": {},
   "source": [
    "__Some ideas for insights__\n",
    "\n",
    "- Word cloud with most frequent words in positive and negative reviews (excluding stopwords)\n",
    "- Perform a sentiment analysis on the reviews"
   ]
  },
  {
   "cell_type": "markdown",
   "id": "2658077f-7a95-4e7f-86a5-45c06273f271",
   "metadata": {},
   "source": [
    "__Import libraries and dataset__"
   ]
  },
  {
   "cell_type": "code",
   "execution_count": null,
   "id": "04cc4e9c-fa66-4612-b83f-9e7cc11ac0dc",
   "metadata": {},
   "outputs": [],
   "source": [
    "import pandas as pd\n",
    "import numpy as np\n",
    "import matplotlib\n",
    "import matplotlib.pyplot as plt\n",
    "from wordcloud import WordCloud\n",
    "\n",
    "df = pd.read_csv(\"data/Hotel_Reviews.csv\")"
   ]
  },
  {
   "cell_type": "markdown",
   "id": "378b17d9-d654-4f90-b136-059249d230a3",
   "metadata": {},
   "source": [
    "__Explore review comments__"
   ]
  },
  {
   "cell_type": "code",
   "execution_count": null,
   "id": "059b07a5-84f2-4580-88b7-5886522787c0",
   "metadata": {},
   "outputs": [],
   "source": [
    "df[['Negative_Review', 'Positive_Review', 'Reviewer_Score']].head()"
   ]
  },
  {
   "cell_type": "markdown",
   "id": "0514acd4-68ac-41cd-9f2b-d0b6e27beb77",
   "metadata": {},
   "source": [
    "__Distribution of scores__"
   ]
  },
  {
   "cell_type": "code",
   "execution_count": null,
   "id": "a417fc7d-aaac-45c6-a8cf-c7e447927972",
   "metadata": {},
   "outputs": [],
   "source": [
    "n_bins = 10\n",
    "\n",
    "scores = df['Reviewer_Score']\n",
    "plt.hist(scores, n_bins, alpha=0.8, edgecolor = \"black\")\n",
    "\n",
    "plt.xlabel('Score')\n",
    "plt.ylabel('Number of reviews')\n",
    "plt.title('Review scores')\n",
    "\n",
    "plt.show() "
   ]
  },
  {
   "cell_type": "markdown",
   "id": "d0462174-de6c-4eeb-b231-77d76a698351",
   "metadata": {},
   "source": [
    "__Create new score grade feature from the review score__"
   ]
  },
  {
   "cell_type": "code",
   "execution_count": null,
   "id": "82c40d4e-8eb7-4199-bb38-54adfcc3c4e6",
   "metadata": {},
   "outputs": [],
   "source": [
    "def calc_grade(row):\n",
    "    score = row['Reviewer_Score']\n",
    "    if score < 4:\n",
    "        return 'Negative'\n",
    "    elif score < 7:\n",
    "        return 'Neutral'\n",
    "    return 'Positive'\n",
    "    \n",
    "df['Score_Grade'] = df.apply(calc_grade, axis=1)\n",
    "df[['Reviewer_Score', 'Score_Grade']].head()"
   ]
  },
  {
   "cell_type": "markdown",
   "id": "e91c2c4b-df29-4ed7-8763-20bd006b3d3d",
   "metadata": {},
   "source": [
    "__Count number of each grade__"
   ]
  },
  {
   "cell_type": "code",
   "execution_count": null,
   "id": "06684aa8-a423-4a90-8660-b0c0ac13d5b6",
   "metadata": {},
   "outputs": [],
   "source": [
    "reviews_by_grade = df.groupby('Score_Grade').size()\n",
    "reviews_by_grade"
   ]
  },
  {
   "cell_type": "markdown",
   "id": "c12a6d4b-caeb-4c49-bf99-1ded837f0408",
   "metadata": {},
   "source": [
    "__Ratio of negative, neutral and positive reviews__"
   ]
  },
  {
   "cell_type": "code",
   "execution_count": null,
   "id": "ff234efb-5efc-4b71-aa1f-78777069ecb7",
   "metadata": {},
   "outputs": [],
   "source": [
    "#rest_fraud_transactions = total_fraud_transactions - top_merchant_fraud['Fraudulent'].sum()\n",
    "#y = np.array(top_merchant_fraud['Fraudulent'].append(pd.Series(rest_fraud_transactions)))\n",
    "grade_labels = ['Negative', 'Neutral', 'Positive']\n",
    "colors = ['salmon', 'lightblue', 'lightgreen']\n",
    "explode = [0.1, 0.1, 0]\n",
    "\n",
    "title = plt.title('Review grades')\n",
    "\n",
    "pie = plt.pie(\n",
    "    reviews_by_grade,\n",
    "    labels = grade_labels,\n",
    "    autopct='%1.0f%%',\n",
    "    colors=colors,\n",
    "    explode=explode,\n",
    "    shadow = True)\n",
    "\n",
    "plt.axis('equal')\n",
    "plt.subplots_adjust(left=0.0, bottom=0.1, right=0.5)\n",
    "\n",
    "plt.show()"
   ]
  },
  {
   "cell_type": "markdown",
   "id": "288e7db5-8da8-4db8-9c22-348bbe0e85dd",
   "metadata": {},
   "source": [
    "__Word analysis for each review grade__"
   ]
  },
  {
   "cell_type": "code",
   "execution_count": null,
   "id": "e4c03def-2db5-4e74-b258-657f8666b2b3",
   "metadata": {},
   "outputs": [],
   "source": [
    "text = \"Hola esto es hola una prueba hola y adios adios adios adios\"\n",
    "\n",
    "wordcloud = WordCloud(width=1280, height=853, margin=0,\n",
    "                      colormap='Blues').generate(text)\n",
    "\n",
    "plt.imshow(wordcloud, interpolation='bilinear')\n",
    "plt.axis('off')\n",
    "plt.margins(x=0, y=0)\n",
    "plt.show()"
   ]
  },
  {
   "cell_type": "markdown",
   "id": "101eb3a3-4c84-4b5e-9226-6d85451d4284",
   "metadata": {},
   "source": [
    "Note: first separate training and test dataset, then create a function for model training and evaluation. Then call this function after every stage of NLP to see how the score changes. I can use a table and a chart.\n",
    "\n",
    "| Stage    | Score    |\n",
    "| -------- | -------- |\n",
    "| Stemming | ???%     |\n",
    "| ...      | ???%     |"
   ]
  },
  {
   "cell_type": "markdown",
   "id": "3ae7a27f-2644-436f-b3d5-4a820d3f4631",
   "metadata": {},
   "source": []
  }
 ],
 "metadata": {
  "language_info": {
   "name": "python",
   "pygments_lexer": "ipython3"
  }
 },
 "nbformat": 4,
 "nbformat_minor": 5
}
