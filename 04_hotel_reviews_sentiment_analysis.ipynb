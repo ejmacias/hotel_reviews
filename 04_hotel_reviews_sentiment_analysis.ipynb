{
 "cells": [
  {
   "cell_type": "markdown",
   "id": "bafd2a03-bd45-470c-84eb-9bf0ae2dc0a1",
   "metadata": {},
   "source": [
    "# Hotel Reviews in Europe\n",
    "\n",
    "__Sentiment analysis__"
   ]
  },
  {
   "cell_type": "markdown",
   "id": "2658077f-7a95-4e7f-86a5-45c06273f271",
   "metadata": {},
   "source": [
    "__Import libraries and dataset__"
   ]
  },
  {
   "cell_type": "code",
   "execution_count": null,
   "id": "04cc4e9c-fa66-4612-b83f-9e7cc11ac0dc",
   "metadata": {},
   "outputs": [],
   "source": [
    "import pandas as pd\n",
    "import numpy as np\n",
    "\n",
    "import matplotlib\n",
    "import matplotlib.pyplot as plt\n",
    "\n",
    "from wordcloud import WordCloud, STOPWORDS\n",
    "\n",
    "from sklearn.model_selection import train_test_split"
   ]
  },
  {
   "cell_type": "markdown",
   "id": "1ff66c65-8195-4136-adb0-3e057e03e846",
   "metadata": {},
   "source": [
    "__Load dataset__"
   ]
  },
  {
   "cell_type": "code",
   "execution_count": null,
   "id": "b4218e64-6914-46e7-a2f8-c9298b6705e5",
   "metadata": {},
   "outputs": [],
   "source": [
    "df = pd.read_csv(\"data/Hotel_Reviews.csv\")"
   ]
  },
  {
   "cell_type": "markdown",
   "id": "378b17d9-d654-4f90-b136-059249d230a3",
   "metadata": {},
   "source": [
    "__Explore review comments__"
   ]
  },
  {
   "cell_type": "code",
   "execution_count": null,
   "id": "059b07a5-84f2-4580-88b7-5886522787c0",
   "metadata": {},
   "outputs": [],
   "source": [
    "df[['Negative_Review', 'Positive_Review', 'Reviewer_Score']].head()"
   ]
  },
  {
   "cell_type": "markdown",
   "id": "0514acd4-68ac-41cd-9f2b-d0b6e27beb77",
   "metadata": {},
   "source": [
    "__Distribution of scores__"
   ]
  },
  {
   "cell_type": "code",
   "execution_count": null,
   "id": "a417fc7d-aaac-45c6-a8cf-c7e447927972",
   "metadata": {},
   "outputs": [],
   "source": [
    "n_bins = 10\n",
    "\n",
    "scores = df['Reviewer_Score']\n",
    "plt.hist(scores, n_bins, alpha=0.8, edgecolor = \"black\")\n",
    "\n",
    "plt.xlabel('Score')\n",
    "plt.ylabel('Number of reviews')\n",
    "plt.title('Review scores')\n",
    "\n",
    "plt.show() "
   ]
  },
  {
   "cell_type": "markdown",
   "id": "d0462174-de6c-4eeb-b231-77d76a698351",
   "metadata": {},
   "source": [
    "__Create new score grade feature from the review score__"
   ]
  },
  {
   "cell_type": "code",
   "execution_count": null,
   "id": "82c40d4e-8eb7-4199-bb38-54adfcc3c4e6",
   "metadata": {},
   "outputs": [],
   "source": [
    "def calc_grade(row):\n",
    "    score = row['Reviewer_Score']\n",
    "    if score < 4:\n",
    "        return 'Negative'\n",
    "    elif score < 7:\n",
    "        return 'Neutral'\n",
    "    return 'Positive'\n",
    "    \n",
    "df['Score_Grade'] = df.apply(calc_grade, axis=1)\n",
    "df[['Reviewer_Score', 'Score_Grade']].head()"
   ]
  },
  {
   "cell_type": "markdown",
   "id": "e91c2c4b-df29-4ed7-8763-20bd006b3d3d",
   "metadata": {},
   "source": [
    "__Count number of each grade__"
   ]
  },
  {
   "cell_type": "code",
   "execution_count": null,
   "id": "06684aa8-a423-4a90-8660-b0c0ac13d5b6",
   "metadata": {},
   "outputs": [],
   "source": [
    "reviews_by_grade = df.groupby('Score_Grade').size()\n",
    "reviews_by_grade"
   ]
  },
  {
   "cell_type": "markdown",
   "id": "c12a6d4b-caeb-4c49-bf99-1ded837f0408",
   "metadata": {},
   "source": [
    "__Ratio of negative, neutral and positive reviews__"
   ]
  },
  {
   "cell_type": "code",
   "execution_count": null,
   "id": "ff234efb-5efc-4b71-aa1f-78777069ecb7",
   "metadata": {},
   "outputs": [],
   "source": [
    "#rest_fraud_transactions = total_fraud_transactions - top_merchant_fraud['Fraudulent'].sum()\n",
    "#y = np.array(top_merchant_fraud['Fraudulent'].append(pd.Series(rest_fraud_transactions)))\n",
    "grade_labels = ['Negative', 'Neutral', 'Positive']\n",
    "colors = ['salmon', 'lightblue', 'lightgreen']\n",
    "explode = [0.1, 0.1, 0]\n",
    "\n",
    "title = plt.title('Review grades')\n",
    "\n",
    "pie = plt.pie(\n",
    "    reviews_by_grade,\n",
    "    labels = grade_labels,\n",
    "    autopct='%1.0f%%',\n",
    "    colors=colors,\n",
    "    explode=explode,\n",
    "    shadow = True)\n",
    "\n",
    "plt.axis('equal')\n",
    "plt.subplots_adjust(left=0.0, bottom=0.1, right=0.5)\n",
    "\n",
    "plt.show()"
   ]
  },
  {
   "cell_type": "markdown",
   "id": "288e7db5-8da8-4db8-9c22-348bbe0e85dd",
   "metadata": {},
   "source": [
    "__Word analysis for each review grade__"
   ]
  },
  {
   "cell_type": "code",
   "execution_count": null,
   "id": "90809728-ff4b-423d-8533-38cb7507900e",
   "metadata": {},
   "outputs": [],
   "source": [
    "# Concatenate positive and negative comments\n",
    "positive_comments = df['Positive_Review'].str.cat()\n",
    "negative_comments = df['Negative_Review'].str.cat()\n",
    "\n",
    "# Ignore words that either have no meaning or could be both positive and negative\n",
    "STOPWORDS.update(('Negative', 'NegativeNo', 'hotel', 'didn', 'couldn', 'wasn', 't', 'Nothing', 'one', 'everything', 'asked', 'use', 'got', 'much', 'find', 'found', 's', 'stay', 'stayed'))\n",
    "\n",
    "# Build wordclouds\n",
    "pos_wordcloud = WordCloud(width=1280, height=853, margin=0,\n",
    "                      colormap='BuGn', background_color='dimgray',\n",
    "                      stopwords=STOPWORDS).generate(positive_comments)\n",
    "\n",
    "neg_wordcloud = WordCloud(width=1280, height=853, margin=0,\n",
    "                      colormap='OrRd', background_color='dimgray',\n",
    "                      stopwords=STOPWORDS).generate(negative_comments)"
   ]
  },
  {
   "cell_type": "code",
   "execution_count": null,
   "id": "a34b133a-4896-4049-81bb-373a0de9ea90",
   "metadata": {},
   "outputs": [],
   "source": [
    "# Define figure\n",
    "fig = plt.figure(figsize=(10, 10))\n",
    "rows = 1\n",
    "columns = 2\n",
    "\n",
    "# Show wordcloud for positive reviews\n",
    "fig.add_subplot(rows, columns, 1)\n",
    "plt.imshow(pos_wordcloud, interpolation='bilinear')\n",
    "plt.axis('off')\n",
    "plt.title(\"Positive Reviews\")\n",
    "  \n",
    "# Show wordcloud for negative reviews\n",
    "fig.add_subplot(rows, columns, 2)  \n",
    "plt.imshow(neg_wordcloud, interpolation='bilinear')\n",
    "plt.axis('off')\n",
    "plt.title(\"Negative Reviews\")\n",
    "\n",
    "plt.show()"
   ]
  },
  {
   "cell_type": "markdown",
   "id": "8d914133-ccee-41b8-9872-8a1a57a08c50",
   "metadata": {},
   "source": [
    "__Separate train and test datasets__"
   ]
  },
  {
   "cell_type": "code",
   "execution_count": null,
   "id": "79d3dbcb-2fd9-415f-bfd8-6f921c1cac3e",
   "metadata": {},
   "outputs": [],
   "source": [
    "RANDOM_SEED = 15\n",
    "\n",
    "y = df['Score_Grade']\n",
    "X = df[['Positive_Review', 'Negative_Review']]\n",
    "\n",
    "X_train, X_test, y_train, y_test = train_test_split(X, y, test_size=0.2, random_state=RANDOM_SEED)\n",
    "\n",
    "print(f'Train size: {X_train.shape[0]}')\n",
    "print(f'Test size: {X_test.shape[0]}')"
   ]
  },
  {
   "cell_type": "markdown",
   "id": "3ae7a27f-2644-436f-b3d5-4a820d3f4631",
   "metadata": {},
   "source": []
  }
 ],
 "metadata": {
  "language_info": {
   "name": "python",
   "pygments_lexer": "ipython3"
  }
 },
 "nbformat": 4,
 "nbformat_minor": 5
}
