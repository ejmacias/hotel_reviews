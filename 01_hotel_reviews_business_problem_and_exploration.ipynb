{
 "cells": [
  {
   "cell_type": "markdown",
   "id": "3df0af52-e596-4a6a-b4c3-dbffba865cad",
   "metadata": {},
   "source": [
    "# Hotel Reviews in Europe\n",
    "\n",
    "__Business problems and initial data exploration__"
   ]
  },
  {
   "cell_type": "markdown",
   "id": "fdb23e32-fa65-4f36-b37f-a0f71a998709",
   "metadata": {},
   "source": [
    "## Table of Contents\n",
    "\n",
    "* [Business problems](#business_problems)\n",
    "* [Data exploration](#data_exploration)\n",
    "* [Data-driven solutions](#data_driven_solutions)"
   ]
  },
  {
   "cell_type": "markdown",
   "id": "171e012d-2917-4000-aa76-82ef3ed546b6",
   "metadata": {},
   "source": [
    "## Business problems <a class=\"anchor\" id=\"business_problems\"></a>"
   ]
  },
  {
   "cell_type": "markdown",
   "id": "1c10c888-9c7e-4c36-80d8-0693815a9ec6",
   "metadata": {},
   "source": [
    "This project tries to solve several problems from the hotel industry, particularly those related to their guests, knowing their source countries and their preferences. Another important challenge for a hotel is to allocate the right amount of their resources according to the expected number of guests during each season, and targetting their advertising campaigns only to the right type of guest. Last but not least, every hotel manager should try to understand the hotel' strong and weak points by listening to what their guests have to say in their reviews.\n",
    "\n",
    "Below we are exploring our dataset in the hope that we can come up with some data-driven solutions to our business problems."
   ]
  },
  {
   "cell_type": "markdown",
   "id": "cf05ceae-fd31-49ac-aca3-ed735f079079",
   "metadata": {},
   "source": [
    "## Data exploration <a class=\"anchor\" id=\"data_exploration\"></a>"
   ]
  },
  {
   "cell_type": "markdown",
   "id": "15c9e49c-9983-4c2c-a8da-d79927071571",
   "metadata": {},
   "source": [
    "__Import libraries and dataset__"
   ]
  },
  {
   "cell_type": "code",
   "execution_count": null,
   "id": "32f8449f-3e3d-45bd-8a78-a8046b5d7e34",
   "metadata": {},
   "outputs": [],
   "source": [
    "import pandas as pd\n",
    "\n",
    "df = pd.read_csv(\"data/Hotel_Reviews.csv\")"
   ]
  },
  {
   "cell_type": "markdown",
   "id": "9adb4d04-d580-4899-9900-40cdec2061a3",
   "metadata": {},
   "source": [
    "__Size of dataset__"
   ]
  },
  {
   "cell_type": "code",
   "execution_count": null,
   "id": "e4f97186-c425-4638-b643-84b28d95589d",
   "metadata": {},
   "outputs": [],
   "source": [
    "df.shape"
   ]
  },
  {
   "cell_type": "markdown",
   "id": "e2520c85-c427-442e-b0de-65ad54fc0e9e",
   "metadata": {},
   "source": [
    "__Column names and types__"
   ]
  },
  {
   "cell_type": "code",
   "execution_count": null,
   "id": "0eadca80-8017-4dc6-ae1e-4121cfaa82dc",
   "metadata": {},
   "outputs": [],
   "source": [
    "df.dtypes"
   ]
  },
  {
   "cell_type": "markdown",
   "id": "c402523a-e5a7-4bd2-93ce-da9b61b21a47",
   "metadata": {},
   "source": [
    "__Column description__"
   ]
  },
  {
   "cell_type": "code",
   "execution_count": null,
   "id": "c824313c-be4a-467d-8170-852d15fdd803",
   "metadata": {},
   "outputs": [],
   "source": [
    "df.describe(include='all')"
   ]
  },
  {
   "cell_type": "markdown",
   "id": "f6159415-1f3c-42ab-802f-4d99c2f03b78",
   "metadata": {},
   "source": [
    "__Hotel countries__"
   ]
  },
  {
   "cell_type": "code",
   "execution_count": null,
   "id": "10cf86cf-7040-4588-8064-90d0e6e907bf",
   "metadata": {},
   "outputs": [],
   "source": [
    "set([address.split(\" \")[-1] for address in df['Hotel_Address']])"
   ]
  },
  {
   "cell_type": "markdown",
   "id": "a1c1e5a6-aeba-400e-a43f-a5863b8283e4",
   "metadata": {},
   "source": [
    "__Number of guest nationalities__"
   ]
  },
  {
   "cell_type": "code",
   "execution_count": null,
   "id": "e748e561-48cd-4c32-bc26-04f1f4ea2baa",
   "metadata": {},
   "outputs": [],
   "source": [
    "len(df['Reviewer_Nationality'].unique())"
   ]
  },
  {
   "cell_type": "markdown",
   "id": "1fa9904d-3fc5-4255-8cff-b215ba8195ee",
   "metadata": {},
   "source": [
    "__Number of hotels__"
   ]
  },
  {
   "cell_type": "code",
   "execution_count": null,
   "id": "40b05d11-36d7-4249-8560-0483ed3721ad",
   "metadata": {},
   "outputs": [],
   "source": [
    "len(df['Hotel_Name'].unique())"
   ]
  },
  {
   "cell_type": "code",
   "execution_count": null,
   "id": "8e20a20b-1bf8-4435-a5ef-26a8bbec0e28",
   "metadata": {},
   "outputs": [],
   "source": [
    "df.head()"
   ]
  },
  {
   "cell_type": "markdown",
   "id": "4c160544-f9ea-4169-a127-4c6fe4d9d327",
   "metadata": {},
   "source": [
    "## Data-driven solutions <a class=\"anchor\" id=\"data_driven_solutions\"></a>"
   ]
  },
  {
   "cell_type": "markdown",
   "id": "393015cd-f27c-491c-b219-6b609f416bca",
   "metadata": {},
   "source": [
    "After exploring our data we can think of possible solutions to our business problems:\n",
    "\n",
    "| Business problem | Solution | Notebook |\n",
    "|------------------|----------|----------|\n",
    "| Find the most frequent nationality of the guests staying in Spanish hotels | Group guest reviews by _Reviewer_Nationality_ and by _Hotel_Address_ containing the word 'Spain', and plot the result in a color-coded world map | [02_world_map](./02_hotel_reviews_world_map.ipynb) |\n",
    "| Find the busiest month for the hotels of each country | Extract the month from _Review_Date_ and group by month and hotel countries, counting the number of guest reviews (assuming reviews are written straight after the stay) | [03_season_analysis](./03_hotel_reviews_season_analysis.ipynb) |\n",
    "| Analyse the sentiment of guest reviews | Apply NLP techniques on _Positive_Review_ and _Negative_Review_ together with _Reviewer_Score_ and build a single-label classification algorithm | [04_sentiment_analysis](./04_hotel_reviews_sentiment_analysis.ipynb) |\n",
    "| Target hotel ads to the right type of guests | Engineer new features from _Tags_ and build a clustering algorithm for hotels as well as a recommendation system for guests | [05_recommendation_system](./05_hotel_reviews_recommendation_system.ipynb)"
   ]
  }
 ],
 "metadata": {
  "language_info": {
   "name": "python",
   "pygments_lexer": "ipython3"
  }
 },
 "nbformat": 4,
 "nbformat_minor": 5
}
