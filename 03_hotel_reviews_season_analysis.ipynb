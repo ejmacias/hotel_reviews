{
 "cells": [
  {
   "cell_type": "markdown",
   "id": "d34d6cb3-57f1-45fd-a509-18d12e7587b9",
   "metadata": {},
   "source": [
    "# Hotel Reviews in Europe\n",
    "\n",
    "__Season analysis__"
   ]
  },
  {
   "cell_type": "markdown",
   "id": "27d25ccc-eb4e-4162-a095-76b8c1f03b59",
   "metadata": {},
   "source": [
    "__Import libraries and dataset__"
   ]
  },
  {
   "cell_type": "code",
   "execution_count": null,
   "id": "9fb37c5d-0bd8-42cd-834d-f16d47d0608a",
   "metadata": {},
   "outputs": [],
   "source": [
    "import pandas as pd\n",
    "import numpy as np\n",
    "import matplotlib\n",
    "import matplotlib.pyplot as plt\n",
    "\n",
    "df = pd.read_csv(\"data/Hotel_Reviews.csv\")"
   ]
  },
  {
   "cell_type": "markdown",
   "id": "5cb50a72-d23d-416e-80e5-ca5a4b38ccf7",
   "metadata": {},
   "source": [
    "__Explore review date__"
   ]
  },
  {
   "cell_type": "code",
   "execution_count": null,
   "id": "84d3f92a-2463-4ff0-b4cc-0bf1615e727c",
   "metadata": {},
   "outputs": [],
   "source": [
    "df['Review_Date'].head()"
   ]
  },
  {
   "cell_type": "markdown",
   "id": "306cdd89-a34a-4edf-94d6-26b7d2386443",
   "metadata": {},
   "source": [
    "__Create new season feature from the review date__\n",
    "\n",
    "__Note__: meteorological season dates for the northern hemisphere are used here."
   ]
  },
  {
   "cell_type": "code",
   "execution_count": null,
   "id": "6cc48fed-9935-42e1-89d3-559a95702915",
   "metadata": {},
   "outputs": [],
   "source": [
    "def calc_season(row):\n",
    "    month = int(row['Review_Date'].split('/')[0])\n",
    "    if month in ([12,1,2]):\n",
    "        return 'Winter'\n",
    "    elif month in ([3,4,5]):\n",
    "        return 'Spring'\n",
    "    elif month in ([6,7,8]):\n",
    "        return 'Summer'\n",
    "    return 'Autumn'\n",
    "    \n",
    "df['Season'] = df.apply(calc_season, axis=1)\n",
    "df[['Review_Date', 'Season']].head()"
   ]
  },
  {
   "cell_type": "markdown",
   "id": "7b2613c1-6143-4e8b-aa16-dd63f35b7cb7",
   "metadata": {},
   "source": [
    "__Create new hotel country feature from the hotel address__"
   ]
  },
  {
   "cell_type": "code",
   "execution_count": null,
   "id": "bc666d25-2144-43c0-913d-4ed32b6877b4",
   "metadata": {},
   "outputs": [],
   "source": [
    "df['Hotel_Country'] = df.apply(lambda x: x['Hotel_Address'].split(\" \")[-1], axis=1)\n",
    "df['Hotel_Country'] = df.apply(lambda x: 'United Kingdom' if 'Kingdom' in x['Hotel_Country'] else x['Hotel_Country'], axis=1)\n",
    "df[['Hotel_Country', 'Hotel_Address']].head()"
   ]
  },
  {
   "cell_type": "code",
   "execution_count": null,
   "id": "e4b7c970-aff1-4da9-9164-87b351efa613",
   "metadata": {},
   "outputs": [],
   "source": [
    "countries = df['Hotel_Country'].unique()\n",
    "countries"
   ]
  },
  {
   "cell_type": "markdown",
   "id": "e2efd556-af08-41d0-ba91-c6455f677ee4",
   "metadata": {},
   "source": [
    "__Group by hotel country and season__"
   ]
  },
  {
   "cell_type": "code",
   "execution_count": null,
   "id": "8be5a156-ce4c-4dec-b815-99aae1bfae07",
   "metadata": {},
   "outputs": [],
   "source": [
    "df_country_by_season = df.groupby(['Hotel_Country', 'Season']).size().reset_index()\n",
    "df_country_by_season.columns = ['Hotel_Country', 'Season', 'Guest Amount']\n",
    "df_country_by_season"
   ]
  },
  {
   "cell_type": "markdown",
   "id": "19ce04e5-6556-4432-a00f-29a3d9aa26a3",
   "metadata": {},
   "source": [
    "__Plot guest distribution by country and season__"
   ]
  },
  {
   "cell_type": "code",
   "execution_count": null,
   "id": "d5480bb0-b2c8-412b-9fc0-db648410d53e",
   "metadata": {},
   "outputs": [],
   "source": [
    "# Define order of seasons\n",
    "seasons = ['Spring', 'Summer', 'Autumn', 'Winter']\n",
    "df_country_by_season['Season']=pd.Categorical(df_country_by_season['Season'],categories=seasons)\n",
    "\n",
    "x = np.arange(len(seasons))  # label locations\n",
    "width = 0.1  # width of the bars\n",
    "\n",
    "fig, ax = plt.subplots()\n",
    "\n",
    "x_coords = np.arange(-len(countries)//2, 1+len(countries)//2)\n",
    "\n",
    "for country, x_coord in zip(countries, x_coords):\n",
    "    country_guests = df_country_by_season.loc[df_country_by_season['Hotel_Country'] == country, ['Season','Guest Amount']].sort_values('Season')['Guest Amount'].tolist()\n",
    "    ax.bar(x + x_coord*width, country_guests, width, label=country)\n",
    "\n",
    "ax.set_ylabel('Number of guests')\n",
    "ax.set_title('Hotel guests by country and season')\n",
    "ax.set_xticks(x)\n",
    "ax.set_xticklabels(seasons)\n",
    "ax.legend()\n",
    "\n",
    "plt.show()"
   ]
  },
  {
   "cell_type": "code",
   "execution_count": null,
   "id": "da5f3ddc-da91-41e4-9ccf-718e552a9c5f",
   "metadata": {},
   "outputs": [],
   "source": []
  }
 ],
 "metadata": {
  "language_info": {
   "name": "python",
   "pygments_lexer": "ipython3"
  }
 },
 "nbformat": 4,
 "nbformat_minor": 5
}
